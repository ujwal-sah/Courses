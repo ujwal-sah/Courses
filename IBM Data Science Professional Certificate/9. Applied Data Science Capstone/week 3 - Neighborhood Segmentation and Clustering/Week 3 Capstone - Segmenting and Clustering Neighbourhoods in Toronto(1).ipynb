{
 "cells": [
  {
   "cell_type": "markdown",
   "metadata": {},
   "source": [
    "# Web Scraping to obtain the data on Toronto Neighborhood"
   ]
  },
  {
   "cell_type": "markdown",
   "metadata": {},
   "source": [
    "### First Method: Using read_html function in pandas"
   ]
  },
  {
   "cell_type": "code",
   "execution_count": 1,
   "metadata": {},
   "outputs": [],
   "source": [
    "#uncomment if xlml not installed. you may need to restart the kernal if xlml not found\n",
    "#!pip install lxml"
   ]
  },
  {
   "cell_type": "code",
   "execution_count": 2,
   "metadata": {
    "scrolled": true
   },
   "outputs": [
    {
     "data": {
      "text/html": [
       "<div>\n",
       "<style scoped>\n",
       "    .dataframe tbody tr th:only-of-type {\n",
       "        vertical-align: middle;\n",
       "    }\n",
       "\n",
       "    .dataframe tbody tr th {\n",
       "        vertical-align: top;\n",
       "    }\n",
       "\n",
       "    .dataframe thead th {\n",
       "        text-align: right;\n",
       "    }\n",
       "</style>\n",
       "<table border=\"1\" class=\"dataframe\">\n",
       "  <thead>\n",
       "    <tr style=\"text-align: right;\">\n",
       "      <th></th>\n",
       "      <th>Postal code</th>\n",
       "      <th>Borough</th>\n",
       "      <th>Neighborhood</th>\n",
       "    </tr>\n",
       "  </thead>\n",
       "  <tbody>\n",
       "    <tr>\n",
       "      <th>0</th>\n",
       "      <td>M1A</td>\n",
       "      <td>NaN</td>\n",
       "      <td>NaN</td>\n",
       "    </tr>\n",
       "    <tr>\n",
       "      <th>1</th>\n",
       "      <td>M2A</td>\n",
       "      <td>NaN</td>\n",
       "      <td>NaN</td>\n",
       "    </tr>\n",
       "    <tr>\n",
       "      <th>2</th>\n",
       "      <td>M3A</td>\n",
       "      <td>North York</td>\n",
       "      <td>Parkwoods</td>\n",
       "    </tr>\n",
       "    <tr>\n",
       "      <th>3</th>\n",
       "      <td>M4A</td>\n",
       "      <td>North York</td>\n",
       "      <td>Victoria Village</td>\n",
       "    </tr>\n",
       "    <tr>\n",
       "      <th>4</th>\n",
       "      <td>M5A</td>\n",
       "      <td>Downtown Toronto</td>\n",
       "      <td>Regent Park / Harbourfront</td>\n",
       "    </tr>\n",
       "  </tbody>\n",
       "</table>\n",
       "</div>"
      ],
      "text/plain": [
       "  Postal code           Borough                Neighborhood\n",
       "0         M1A               NaN                         NaN\n",
       "1         M2A               NaN                         NaN\n",
       "2         M3A        North York                   Parkwoods\n",
       "3         M4A        North York            Victoria Village\n",
       "4         M5A  Downtown Toronto  Regent Park / Harbourfront"
      ]
     },
     "execution_count": 2,
     "metadata": {},
     "output_type": "execute_result"
    }
   ],
   "source": [
    "import pandas as pd\n",
    "url = 'https://en.wikipedia.org/wiki/List_of_postal_codes_of_Canada:_M'\n",
    "#it will read the tablefrom html page, assign the first row as header and define Not assigned in Webpage to NaN in padas dataframe\n",
    "#there are two tables on the page, we need just the first one\n",
    "df_toronto = pd.read_html(url, header=0, na_values= ['Not assigned'])[0]\n",
    "df_toronto.head()"
   ]
  },
  {
   "cell_type": "code",
   "execution_count": 3,
   "metadata": {},
   "outputs": [
    {
     "data": {
      "text/plain": [
       "(180, 3)"
      ]
     },
     "execution_count": 3,
     "metadata": {},
     "output_type": "execute_result"
    }
   ],
   "source": [
    "#this is the number of rows and colums including NaN values for Borough\n",
    "df_toronto.shape"
   ]
  },
  {
   "cell_type": "code",
   "execution_count": 4,
   "metadata": {},
   "outputs": [
    {
     "data": {
      "text/plain": [
       "Postal code      0\n",
       "Borough         77\n",
       "Neighborhood    77\n",
       "dtype: int64"
      ]
     },
     "execution_count": 4,
     "metadata": {},
     "output_type": "execute_result"
    }
   ],
   "source": [
    "#lets count missing values in our dataframe \n",
    "df_toronto.isna().sum()"
   ]
  },
  {
   "cell_type": "code",
   "execution_count": 5,
   "metadata": {},
   "outputs": [],
   "source": [
    "#lets drop missing rows if Borough is missing in that row\n",
    "df_toronto.dropna(axis=0, subset=['Borough'], inplace=True)"
   ]
  },
  {
   "cell_type": "code",
   "execution_count": 6,
   "metadata": {},
   "outputs": [
    {
     "data": {
      "text/plain": [
       "Postal code     0\n",
       "Borough         0\n",
       "Neighborhood    0\n",
       "dtype: int64"
      ]
     },
     "execution_count": 6,
     "metadata": {},
     "output_type": "execute_result"
    }
   ],
   "source": [
    "#no values are missing now\n",
    "df_toronto.isna().sum()"
   ]
  },
  {
   "cell_type": "code",
   "execution_count": 7,
   "metadata": {},
   "outputs": [
    {
     "data": {
      "text/plain": [
       "103"
      ]
     },
     "execution_count": 7,
     "metadata": {},
     "output_type": "execute_result"
    }
   ],
   "source": [
    "#although the question says to combine postal address, turn out wikipedia has already done that in recent updates\n",
    "len(df_toronto['Postal code'].unique())"
   ]
  },
  {
   "cell_type": "code",
   "execution_count": 8,
   "metadata": {},
   "outputs": [],
   "source": [
    "#lets replace ' /' in Neighborhodd column with ',', we dont need to use regular expression \n",
    "df_toronto['Neighborhood'] = df_toronto.Neighborhood.str.replace(' /',',', regex=False)"
   ]
  },
  {
   "cell_type": "code",
   "execution_count": 9,
   "metadata": {},
   "outputs": [],
   "source": [
    "#reset index\n",
    "df_toronto.reset_index(drop = True, inplace=True)"
   ]
  },
  {
   "cell_type": "code",
   "execution_count": 10,
   "metadata": {
    "scrolled": false
   },
   "outputs": [
    {
     "data": {
      "text/html": [
       "<div>\n",
       "<style scoped>\n",
       "    .dataframe tbody tr th:only-of-type {\n",
       "        vertical-align: middle;\n",
       "    }\n",
       "\n",
       "    .dataframe tbody tr th {\n",
       "        vertical-align: top;\n",
       "    }\n",
       "\n",
       "    .dataframe thead th {\n",
       "        text-align: right;\n",
       "    }\n",
       "</style>\n",
       "<table border=\"1\" class=\"dataframe\">\n",
       "  <thead>\n",
       "    <tr style=\"text-align: right;\">\n",
       "      <th></th>\n",
       "      <th>Postal code</th>\n",
       "      <th>Borough</th>\n",
       "      <th>Neighborhood</th>\n",
       "    </tr>\n",
       "  </thead>\n",
       "  <tbody>\n",
       "    <tr>\n",
       "      <th>0</th>\n",
       "      <td>M3A</td>\n",
       "      <td>North York</td>\n",
       "      <td>Parkwoods</td>\n",
       "    </tr>\n",
       "    <tr>\n",
       "      <th>1</th>\n",
       "      <td>M4A</td>\n",
       "      <td>North York</td>\n",
       "      <td>Victoria Village</td>\n",
       "    </tr>\n",
       "    <tr>\n",
       "      <th>2</th>\n",
       "      <td>M5A</td>\n",
       "      <td>Downtown Toronto</td>\n",
       "      <td>Regent Park, Harbourfront</td>\n",
       "    </tr>\n",
       "    <tr>\n",
       "      <th>3</th>\n",
       "      <td>M6A</td>\n",
       "      <td>North York</td>\n",
       "      <td>Lawrence Manor, Lawrence Heights</td>\n",
       "    </tr>\n",
       "    <tr>\n",
       "      <th>4</th>\n",
       "      <td>M7A</td>\n",
       "      <td>Downtown Toronto</td>\n",
       "      <td>Queen's Park, Ontario Provincial Government</td>\n",
       "    </tr>\n",
       "  </tbody>\n",
       "</table>\n",
       "</div>"
      ],
      "text/plain": [
       "  Postal code           Borough                                 Neighborhood\n",
       "0         M3A        North York                                    Parkwoods\n",
       "1         M4A        North York                             Victoria Village\n",
       "2         M5A  Downtown Toronto                    Regent Park, Harbourfront\n",
       "3         M6A        North York             Lawrence Manor, Lawrence Heights\n",
       "4         M7A  Downtown Toronto  Queen's Park, Ontario Provincial Government"
      ]
     },
     "execution_count": 10,
     "metadata": {},
     "output_type": "execute_result"
    }
   ],
   "source": [
    "df_toronto.head()"
   ]
  },
  {
   "cell_type": "code",
   "execution_count": 11,
   "metadata": {},
   "outputs": [
    {
     "name": "stdout",
     "output_type": "stream",
     "text": [
      "The shape of the dataset is: (103, 3)\n"
     ]
    }
   ],
   "source": [
    "#Shape of the dataset\n",
    "#we dropped 77 rows (realize that there were 77 missing values in Borough)\n",
    "print('The shape of the dataset is:',df_toronto.shape)"
   ]
  },
  {
   "cell_type": "code",
   "execution_count": 12,
   "metadata": {},
   "outputs": [],
   "source": [
    "#lets export the csv file now\n",
    "df_toronto.to_csv('toronto_neigh.csv', index=False)"
   ]
  },
  {
   "cell_type": "markdown",
   "metadata": {},
   "source": [
    "### Alternatively: Using BeautifulSoup"
   ]
  },
  {
   "cell_type": "code",
   "execution_count": 13,
   "metadata": {},
   "outputs": [],
   "source": [
    "#Uncomment if requests not installed\n",
    "#!pip install requests"
   ]
  },
  {
   "cell_type": "code",
   "execution_count": 14,
   "metadata": {},
   "outputs": [],
   "source": [
    "import requests\n",
    "url = 'https://en.wikipedia.org/wiki/List_of_postal_codes_of_Canada:_M'\n",
    "r = requests.get(url)"
   ]
  },
  {
   "cell_type": "code",
   "execution_count": 15,
   "metadata": {},
   "outputs": [
    {
     "name": "stdout",
     "output_type": "stream",
     "text": [
      "\n",
      "<!DOCTYPE html>\n",
      "<html class=\"client-nojs\" lang=\"en\" dir=\"ltr\">\n",
      "<head>\n",
      "<meta charset=\"UTF-8\"/>\n",
      "<title>List of postal codes of Canada: M - Wikipedia</title>\n",
      "<script>document.documentElement.className=\"client-js\";RLCONF={\"wgBreakFrames\":!1,\"wgSeparatorTransformTable\":[\"\",\"\"],\"wgDigitTransformTable\":[\"\",\"\"],\"wgDefaultDateFormat\":\"dmy\",\"wgMonthNames\":[\"\",\"January\",\"February\",\"March\",\"April\",\"May\",\"June\",\"July\",\"August\",\"September\",\"October\",\"November\",\"December\"],\"wgRequestId\":\"XptJpgpAICsAAFpdq2oAA\n"
     ]
    }
   ],
   "source": [
    "#print the first 500 characters of the HTML\n",
    "print(r.text[0:500])"
   ]
  },
  {
   "cell_type": "code",
   "execution_count": 16,
   "metadata": {},
   "outputs": [],
   "source": [
    "#uncomment if Beautifulsoup not installed\n",
    "#!pip install beautifulsoup4"
   ]
  },
  {
   "cell_type": "code",
   "execution_count": 17,
   "metadata": {},
   "outputs": [],
   "source": [
    "from bs4 import BeautifulSoup\n",
    "soup = BeautifulSoup(r.text, 'html.parser')"
   ]
  },
  {
   "cell_type": "code",
   "execution_count": 18,
   "metadata": {},
   "outputs": [],
   "source": [
    "results = soup.find_all('td')"
   ]
  },
  {
   "cell_type": "code",
   "execution_count": 19,
   "metadata": {},
   "outputs": [
    {
     "data": {
      "text/plain": [
       "573"
      ]
     },
     "execution_count": 19,
     "metadata": {},
     "output_type": "execute_result"
    }
   ],
   "source": [
    "len(results)"
   ]
  },
  {
   "cell_type": "code",
   "execution_count": 20,
   "metadata": {},
   "outputs": [],
   "source": [
    "#we dont need all of the data present in results\n",
    "results = results[0:540]"
   ]
  },
  {
   "cell_type": "code",
   "execution_count": 21,
   "metadata": {},
   "outputs": [
    {
     "data": {
      "text/plain": [
       "'M1A'"
      ]
     },
     "execution_count": 21,
     "metadata": {},
     "output_type": "execute_result"
    }
   ],
   "source": [
    "#trial code\n",
    "#[0:-1] is required to remove formatting character from end of string\n",
    "#remove [0:-1] to see what i mean\n",
    "results[0].text[0:-1]"
   ]
  },
  {
   "cell_type": "code",
   "execution_count": 22,
   "metadata": {},
   "outputs": [
    {
     "data": {
      "text/plain": [
       "'Not assigned'"
      ]
     },
     "execution_count": 22,
     "metadata": {},
     "output_type": "execute_result"
    }
   ],
   "source": [
    "#trial code\n",
    "results[1].text[0:-1]"
   ]
  },
  {
   "cell_type": "code",
   "execution_count": 23,
   "metadata": {},
   "outputs": [
    {
     "data": {
      "text/plain": [
       "''"
      ]
     },
     "execution_count": 23,
     "metadata": {},
     "output_type": "execute_result"
    }
   ],
   "source": [
    "#trial code\n",
    "results[2].text[0:-1]"
   ]
  },
  {
   "cell_type": "code",
   "execution_count": 24,
   "metadata": {},
   "outputs": [],
   "source": [
    "records =[]\n",
    "i = 0\n",
    "while i < len(results):\n",
    "    postal = results[i].text[0:-1]\n",
    "    borough = results[i+1].text\n",
    "    if borough == '\\n' or borough == 'Not assigned\\n':\n",
    "        borough = None\n",
    "    else:\n",
    "        borough = results[i+1].text[0:-1]\n",
    "    neighbor = results[i+2].text\n",
    "    if neighbor == '\\n' or neighbor == 'Not assigned\\n':\n",
    "        neighbor = None\n",
    "    else:\n",
    "        neighbor = results[i+2].text[0:-1]\n",
    "    records.append((postal,borough,neighbor))\n",
    "    i = i + 3"
   ]
  },
  {
   "cell_type": "code",
   "execution_count": 25,
   "metadata": {},
   "outputs": [
    {
     "data": {
      "text/plain": [
       "[('M1A', None, None),\n",
       " ('M2A', None, None),\n",
       " ('M3A', 'North York', 'Parkwoods'),\n",
       " ('M4A', 'North York', 'Victoria Village'),\n",
       " ('M5A', 'Downtown Toronto', 'Regent Park / Harbourfront'),\n",
       " ('M6A', 'North York', 'Lawrence Manor / Lawrence Heights'),\n",
       " ('M7A', 'Downtown Toronto', \"Queen's Park / Ontario Provincial Government\"),\n",
       " ('M8A', None, None),\n",
       " ('M9A', 'Etobicoke', 'Islington Avenue'),\n",
       " ('M1B', 'Scarborough', 'Malvern / Rouge'),\n",
       " ('M2B', None, None),\n",
       " ('M3B', 'North York', 'Don Mills'),\n",
       " ('M4B', 'East York', 'Parkview Hill / Woodbine Gardens'),\n",
       " ('M5B', 'Downtown Toronto', 'Garden District, Ryerson'),\n",
       " ('M6B', 'North York', 'Glencairn'),\n",
       " ('M7B', None, None),\n",
       " ('M8B', None, None),\n",
       " ('M9B',\n",
       "  'Etobicoke',\n",
       "  'West Deane Park / Princess Gardens / Martin Grove / Islington / Cloverdale'),\n",
       " ('M1C', 'Scarborough', 'Rouge Hill / Port Union / Highland Creek'),\n",
       " ('M2C', None, None),\n",
       " ('M3C', 'North York', 'Don Mills'),\n",
       " ('M4C', 'East York', 'Woodbine Heights'),\n",
       " ('M5C', 'Downtown Toronto', 'St. James Town'),\n",
       " ('M6C', 'York', 'Humewood-Cedarvale'),\n",
       " ('M7C', None, None),\n",
       " ('M8C', None, None),\n",
       " ('M9C',\n",
       "  'Etobicoke',\n",
       "  'Eringate / Bloordale Gardens / Old Burnhamthorpe / Markland Wood'),\n",
       " ('M1E', 'Scarborough', 'Guildwood / Morningside / West Hill'),\n",
       " ('M2E', None, None),\n",
       " ('M3E', None, None),\n",
       " ('M4E', 'East Toronto', 'The Beaches'),\n",
       " ('M5E', 'Downtown Toronto', 'Berczy Park'),\n",
       " ('M6E', 'York', 'Caledonia-Fairbanks'),\n",
       " ('M7E', None, None),\n",
       " ('M8E', None, None),\n",
       " ('M9E', None, None),\n",
       " ('M1G', 'Scarborough', 'Woburn'),\n",
       " ('M2G', None, None),\n",
       " ('M3G', None, None),\n",
       " ('M4G', 'East York', 'Leaside'),\n",
       " ('M5G', 'Downtown Toronto', 'Central Bay Street'),\n",
       " ('M6G', 'Downtown Toronto', 'Christie'),\n",
       " ('M7G', None, None),\n",
       " ('M8G', None, None),\n",
       " ('M9G', None, None),\n",
       " ('M1H', 'Scarborough', 'Cedarbrae'),\n",
       " ('M2H', 'North York', 'Hillcrest Village'),\n",
       " ('M3H', 'North York', 'Bathurst Manor / Wilson Heights / Downsview North'),\n",
       " ('M4H', 'East York', 'Thorncliffe Park'),\n",
       " ('M5H', 'Downtown Toronto', 'Richmond / Adelaide / King'),\n",
       " ('M6H', 'West Toronto', 'Dufferin / Dovercourt Village'),\n",
       " ('M7H', None, None),\n",
       " ('M8H', None, None),\n",
       " ('M9H', None, None),\n",
       " ('M1J', 'Scarborough', 'Scarborough Village'),\n",
       " ('M2J', 'North York', 'Fairview / Henry Farm / Oriole'),\n",
       " ('M3J', 'North York', 'Northwood Park / York University'),\n",
       " ('M4J', 'East York', 'East Toronto'),\n",
       " ('M5J',\n",
       "  'Downtown Toronto',\n",
       "  'Harbourfront East / Union Station / Toronto Islands'),\n",
       " ('M6J', 'West Toronto', 'Little Portugal / Trinity'),\n",
       " ('M7J', None, None),\n",
       " ('M8J', None, None),\n",
       " ('M9J', None, None),\n",
       " ('M1K', 'Scarborough', 'Kennedy Park / Ionview / East Birchmount Park'),\n",
       " ('M2K', 'North York', 'Bayview Village'),\n",
       " ('M3K', 'North York', 'Downsview'),\n",
       " ('M4K', 'East Toronto', 'The Danforth West / Riverdale'),\n",
       " ('M5K', 'Downtown Toronto', 'Toronto Dominion Centre / Design Exchange'),\n",
       " ('M6K', 'West Toronto', 'Brockton / Parkdale Village / Exhibition Place'),\n",
       " ('M7K', None, None),\n",
       " ('M8K', None, None),\n",
       " ('M9K', None, None),\n",
       " ('M1L', 'Scarborough', 'Golden Mile / Clairlea / Oakridge'),\n",
       " ('M2L', 'North York', 'York Mills / Silver Hills'),\n",
       " ('M3L', 'North York', 'Downsview'),\n",
       " ('M4L', 'East Toronto', 'India Bazaar / The Beaches West'),\n",
       " ('M5L', 'Downtown Toronto', 'Commerce Court / Victoria Hotel'),\n",
       " ('M6L', 'North York', 'North Park / Maple Leaf Park / Upwood Park'),\n",
       " ('M7L', None, None),\n",
       " ('M8L', None, None),\n",
       " ('M9L', 'North York', 'Humber Summit'),\n",
       " ('M1M', 'Scarborough', 'Cliffside / Cliffcrest / Scarborough Village West'),\n",
       " ('M2M', 'North York', 'Willowdale / Newtonbrook'),\n",
       " ('M3M', 'North York', 'Downsview'),\n",
       " ('M4M', 'East Toronto', 'Studio District'),\n",
       " ('M5M', 'North York', 'Bedford Park / Lawrence Manor East'),\n",
       " ('M6M', 'York', 'Del Ray / Mount Dennis / Keelsdale and Silverthorn'),\n",
       " ('M7M', None, None),\n",
       " ('M8M', None, None),\n",
       " ('M9M', 'North York', 'Humberlea / Emery'),\n",
       " ('M1N', 'Scarborough', 'Birch Cliff / Cliffside West'),\n",
       " ('M2N', 'North York', 'Willowdale'),\n",
       " ('M3N', 'North York', 'Downsview'),\n",
       " ('M4N', 'Central Toronto', 'Lawrence Park'),\n",
       " ('M5N', 'Central Toronto', 'Roselawn'),\n",
       " ('M6N', 'York', 'Runnymede / The Junction North'),\n",
       " ('M7N', None, None),\n",
       " ('M8N', None, None),\n",
       " ('M9N', 'York', 'Weston'),\n",
       " ('M1P',\n",
       "  'Scarborough',\n",
       "  'Dorset Park / Wexford Heights / Scarborough Town Centre'),\n",
       " ('M2P', 'North York', 'York Mills West'),\n",
       " ('M3P', None, None),\n",
       " ('M4P', 'Central Toronto', 'Davisville North'),\n",
       " ('M5P', 'Central Toronto', 'Forest Hill North & West'),\n",
       " ('M6P', 'West Toronto', 'High Park / The Junction South'),\n",
       " ('M7P', None, None),\n",
       " ('M8P', None, None),\n",
       " ('M9P', 'Etobicoke', 'Westmount'),\n",
       " ('M1R', 'Scarborough', 'Wexford / Maryvale'),\n",
       " ('M2R', 'North York', 'Willowdale'),\n",
       " ('M3R', None, None),\n",
       " ('M4R', 'Central Toronto', 'North Toronto West'),\n",
       " ('M5R', 'Central Toronto', 'The Annex / North Midtown / Yorkville'),\n",
       " ('M6R', 'West Toronto', 'Parkdale / Roncesvalles'),\n",
       " ('M7R', 'Mississauga', 'Canada Post Gateway Processing Centre'),\n",
       " ('M8R', None, None),\n",
       " ('M9R',\n",
       "  'Etobicoke',\n",
       "  'Kingsview Village / St. Phillips / Martin Grove Gardens / Richview Gardens'),\n",
       " ('M1S', 'Scarborough', 'Agincourt'),\n",
       " ('M2S', None, None),\n",
       " ('M3S', None, None),\n",
       " ('M4S', 'Central Toronto', 'Davisville'),\n",
       " ('M5S', 'Downtown Toronto', 'University of Toronto / Harbord'),\n",
       " ('M6S', 'West Toronto', 'Runnymede / Swansea'),\n",
       " ('M7S', None, None),\n",
       " ('M8S', None, None),\n",
       " ('M9S', None, None),\n",
       " ('M1T', 'Scarborough', \"Clarks Corners / Tam O'Shanter / Sullivan\"),\n",
       " ('M2T', None, None),\n",
       " ('M3T', None, None),\n",
       " ('M4T', 'Central Toronto', 'Moore Park / Summerhill East'),\n",
       " ('M5T', 'Downtown Toronto', 'Kensington Market / Chinatown / Grange Park'),\n",
       " ('M6T', None, None),\n",
       " ('M7T', None, None),\n",
       " ('M8T', None, None),\n",
       " ('M9T', None, None),\n",
       " ('M1V',\n",
       "  'Scarborough',\n",
       "  \"Milliken / Agincourt North / Steeles East / L'Amoreaux East\"),\n",
       " ('M2V', None, None),\n",
       " ('M3V', None, None),\n",
       " ('M4V',\n",
       "  'Central Toronto',\n",
       "  'Summerhill West / Rathnelly / South Hill / Forest Hill SE / Deer Park'),\n",
       " ('M5V',\n",
       "  'Downtown Toronto',\n",
       "  'CN Tower / King and Spadina / Railway Lands / Harbourfront West / Bathurst Quay / South Niagara / Island airport'),\n",
       " ('M6V', None, None),\n",
       " ('M7V', None, None),\n",
       " ('M8V', 'Etobicoke', 'New Toronto / Mimico South / Humber Bay Shores'),\n",
       " ('M9V',\n",
       "  'Etobicoke',\n",
       "  'South Steeles / Silverstone / Humbergate / Jamestown / Mount Olive / Beaumond Heights / Thistletown / Albion Gardens'),\n",
       " ('M1W', 'Scarborough', \"Steeles West / L'Amoreaux West\"),\n",
       " ('M2W', None, None),\n",
       " ('M3W', None, None),\n",
       " ('M4W', 'Downtown Toronto', 'Rosedale'),\n",
       " ('M5W', 'Downtown Toronto', 'Stn A PO Boxes'),\n",
       " ('M6W', None, None),\n",
       " ('M7W', None, None),\n",
       " ('M8W', 'Etobicoke', 'Alderwood / Long Branch'),\n",
       " ('M9W', 'Etobicoke', 'Northwest'),\n",
       " ('M1X', 'Scarborough', 'Upper Rouge'),\n",
       " ('M2X', None, None),\n",
       " ('M3X', None, None),\n",
       " ('M4X', 'Downtown Toronto', 'St. James Town / Cabbagetown'),\n",
       " ('M5X', 'Downtown Toronto', 'First Canadian Place / Underground city'),\n",
       " ('M6X', None, None),\n",
       " ('M7X', None, None),\n",
       " ('M8X', 'Etobicoke', 'The Kingsway / Montgomery Road  / Old Mill North'),\n",
       " ('M9X', None, None),\n",
       " ('M1Y', None, None),\n",
       " ('M2Y', None, None),\n",
       " ('M3Y', None, None),\n",
       " ('M4Y', 'Downtown Toronto', 'Church and Wellesley'),\n",
       " ('M5Y', None, None),\n",
       " ('M6Y', None, None),\n",
       " ('M7Y', 'East Toronto', 'Business reply mail Processing CentrE'),\n",
       " ('M8Y',\n",
       "  'Etobicoke',\n",
       "  \"Old Mill South / King's Mill Park / Sunnylea / Humber Bay / Mimico NE / The Queensway East / Royal York South East / Kingsway Park South East\"),\n",
       " ('M9Y', None, None),\n",
       " ('M1Z', None, None),\n",
       " ('M2Z', None, None),\n",
       " ('M3Z', None, None),\n",
       " ('M4Z', None, None),\n",
       " ('M5Z', None, None),\n",
       " ('M6Z', None, None),\n",
       " ('M7Z', None, None),\n",
       " ('M8Z',\n",
       "  'Etobicoke',\n",
       "  'Mimico NW / The Queensway West / South of Bloor / Kingsway Park South West / Royal York South West'),\n",
       " ('M9Z', None, None)]"
      ]
     },
     "execution_count": 25,
     "metadata": {},
     "output_type": "execute_result"
    }
   ],
   "source": [
    "records"
   ]
  },
  {
   "cell_type": "code",
   "execution_count": 26,
   "metadata": {},
   "outputs": [
    {
     "data": {
      "text/plain": [
       "180"
      ]
     },
     "execution_count": 26,
     "metadata": {},
     "output_type": "execute_result"
    }
   ],
   "source": [
    "#540/3 = 180\n",
    "len(records)"
   ]
  },
  {
   "cell_type": "code",
   "execution_count": 27,
   "metadata": {},
   "outputs": [
    {
     "data": {
      "text/html": [
       "<div>\n",
       "<style scoped>\n",
       "    .dataframe tbody tr th:only-of-type {\n",
       "        vertical-align: middle;\n",
       "    }\n",
       "\n",
       "    .dataframe tbody tr th {\n",
       "        vertical-align: top;\n",
       "    }\n",
       "\n",
       "    .dataframe thead th {\n",
       "        text-align: right;\n",
       "    }\n",
       "</style>\n",
       "<table border=\"1\" class=\"dataframe\">\n",
       "  <thead>\n",
       "    <tr style=\"text-align: right;\">\n",
       "      <th></th>\n",
       "      <th>Postal code</th>\n",
       "      <th>Borough</th>\n",
       "      <th>Neighborhood</th>\n",
       "    </tr>\n",
       "  </thead>\n",
       "  <tbody>\n",
       "    <tr>\n",
       "      <th>0</th>\n",
       "      <td>M1A</td>\n",
       "      <td>None</td>\n",
       "      <td>None</td>\n",
       "    </tr>\n",
       "    <tr>\n",
       "      <th>1</th>\n",
       "      <td>M2A</td>\n",
       "      <td>None</td>\n",
       "      <td>None</td>\n",
       "    </tr>\n",
       "    <tr>\n",
       "      <th>2</th>\n",
       "      <td>M3A</td>\n",
       "      <td>North York</td>\n",
       "      <td>Parkwoods</td>\n",
       "    </tr>\n",
       "    <tr>\n",
       "      <th>3</th>\n",
       "      <td>M4A</td>\n",
       "      <td>North York</td>\n",
       "      <td>Victoria Village</td>\n",
       "    </tr>\n",
       "    <tr>\n",
       "      <th>4</th>\n",
       "      <td>M5A</td>\n",
       "      <td>Downtown Toronto</td>\n",
       "      <td>Regent Park / Harbourfront</td>\n",
       "    </tr>\n",
       "  </tbody>\n",
       "</table>\n",
       "</div>"
      ],
      "text/plain": [
       "  Postal code           Borough                Neighborhood\n",
       "0         M1A              None                        None\n",
       "1         M2A              None                        None\n",
       "2         M3A        North York                   Parkwoods\n",
       "3         M4A        North York            Victoria Village\n",
       "4         M5A  Downtown Toronto  Regent Park / Harbourfront"
      ]
     },
     "execution_count": 27,
     "metadata": {},
     "output_type": "execute_result"
    }
   ],
   "source": [
    "import pandas as pd\n",
    "df_toronto = pd.DataFrame(records, columns = ['Postal code', 'Borough', 'Neighborhood'])\n",
    "df_toronto.head()"
   ]
  },
  {
   "cell_type": "code",
   "execution_count": 28,
   "metadata": {},
   "outputs": [
    {
     "data": {
      "text/html": [
       "<div>\n",
       "<style scoped>\n",
       "    .dataframe tbody tr th:only-of-type {\n",
       "        vertical-align: middle;\n",
       "    }\n",
       "\n",
       "    .dataframe tbody tr th {\n",
       "        vertical-align: top;\n",
       "    }\n",
       "\n",
       "    .dataframe thead th {\n",
       "        text-align: right;\n",
       "    }\n",
       "</style>\n",
       "<table border=\"1\" class=\"dataframe\">\n",
       "  <thead>\n",
       "    <tr style=\"text-align: right;\">\n",
       "      <th></th>\n",
       "      <th>Postal code</th>\n",
       "      <th>Borough</th>\n",
       "      <th>Neighborhood</th>\n",
       "    </tr>\n",
       "  </thead>\n",
       "  <tbody>\n",
       "    <tr>\n",
       "      <th>175</th>\n",
       "      <td>M5Z</td>\n",
       "      <td>None</td>\n",
       "      <td>None</td>\n",
       "    </tr>\n",
       "    <tr>\n",
       "      <th>176</th>\n",
       "      <td>M6Z</td>\n",
       "      <td>None</td>\n",
       "      <td>None</td>\n",
       "    </tr>\n",
       "    <tr>\n",
       "      <th>177</th>\n",
       "      <td>M7Z</td>\n",
       "      <td>None</td>\n",
       "      <td>None</td>\n",
       "    </tr>\n",
       "    <tr>\n",
       "      <th>178</th>\n",
       "      <td>M8Z</td>\n",
       "      <td>Etobicoke</td>\n",
       "      <td>Mimico NW / The Queensway West / South of Bloo...</td>\n",
       "    </tr>\n",
       "    <tr>\n",
       "      <th>179</th>\n",
       "      <td>M9Z</td>\n",
       "      <td>None</td>\n",
       "      <td>None</td>\n",
       "    </tr>\n",
       "  </tbody>\n",
       "</table>\n",
       "</div>"
      ],
      "text/plain": [
       "    Postal code    Borough                                       Neighborhood\n",
       "175         M5Z       None                                               None\n",
       "176         M6Z       None                                               None\n",
       "177         M7Z       None                                               None\n",
       "178         M8Z  Etobicoke  Mimico NW / The Queensway West / South of Bloo...\n",
       "179         M9Z       None                                               None"
      ]
     },
     "execution_count": 28,
     "metadata": {},
     "output_type": "execute_result"
    }
   ],
   "source": [
    "df_toronto.tail()"
   ]
  },
  {
   "cell_type": "code",
   "execution_count": 29,
   "metadata": {},
   "outputs": [
    {
     "data": {
      "text/plain": [
       "(180, 3)"
      ]
     },
     "execution_count": 29,
     "metadata": {},
     "output_type": "execute_result"
    }
   ],
   "source": [
    "#this is the number of rows and colums including NaN values for Borough\n",
    "df_toronto.shape"
   ]
  },
  {
   "cell_type": "code",
   "execution_count": 30,
   "metadata": {},
   "outputs": [
    {
     "data": {
      "text/plain": [
       "Postal code      0\n",
       "Borough         77\n",
       "Neighborhood    77\n",
       "dtype: int64"
      ]
     },
     "execution_count": 30,
     "metadata": {},
     "output_type": "execute_result"
    }
   ],
   "source": [
    "#lets count missing values in our dataframe \n",
    "df_toronto.isna().sum()"
   ]
  },
  {
   "cell_type": "code",
   "execution_count": 31,
   "metadata": {},
   "outputs": [],
   "source": [
    "#lets drop missing rows if Borough is missing in that row\n",
    "df_toronto.dropna(axis=0, subset=['Borough'], inplace=True)"
   ]
  },
  {
   "cell_type": "code",
   "execution_count": 32,
   "metadata": {},
   "outputs": [
    {
     "data": {
      "text/plain": [
       "Postal code     0\n",
       "Borough         0\n",
       "Neighborhood    0\n",
       "dtype: int64"
      ]
     },
     "execution_count": 32,
     "metadata": {},
     "output_type": "execute_result"
    }
   ],
   "source": [
    "#no values are missing now\n",
    "df_toronto.isna().sum()"
   ]
  },
  {
   "cell_type": "code",
   "execution_count": 33,
   "metadata": {},
   "outputs": [],
   "source": [
    "#lets replace ' /' in Neighborhodd column with ',', we dont need to use regular expression \n",
    "df_toronto['Neighborhood'] = df_toronto.Neighborhood.str.replace(' /',',', regex=False)"
   ]
  },
  {
   "cell_type": "code",
   "execution_count": 34,
   "metadata": {},
   "outputs": [],
   "source": [
    "#reset index\n",
    "df_toronto.reset_index(drop = True, inplace=True)"
   ]
  },
  {
   "cell_type": "code",
   "execution_count": 35,
   "metadata": {},
   "outputs": [
    {
     "data": {
      "text/html": [
       "<div>\n",
       "<style scoped>\n",
       "    .dataframe tbody tr th:only-of-type {\n",
       "        vertical-align: middle;\n",
       "    }\n",
       "\n",
       "    .dataframe tbody tr th {\n",
       "        vertical-align: top;\n",
       "    }\n",
       "\n",
       "    .dataframe thead th {\n",
       "        text-align: right;\n",
       "    }\n",
       "</style>\n",
       "<table border=\"1\" class=\"dataframe\">\n",
       "  <thead>\n",
       "    <tr style=\"text-align: right;\">\n",
       "      <th></th>\n",
       "      <th>Postal code</th>\n",
       "      <th>Borough</th>\n",
       "      <th>Neighborhood</th>\n",
       "    </tr>\n",
       "  </thead>\n",
       "  <tbody>\n",
       "    <tr>\n",
       "      <th>0</th>\n",
       "      <td>M3A</td>\n",
       "      <td>North York</td>\n",
       "      <td>Parkwoods</td>\n",
       "    </tr>\n",
       "    <tr>\n",
       "      <th>1</th>\n",
       "      <td>M4A</td>\n",
       "      <td>North York</td>\n",
       "      <td>Victoria Village</td>\n",
       "    </tr>\n",
       "    <tr>\n",
       "      <th>2</th>\n",
       "      <td>M5A</td>\n",
       "      <td>Downtown Toronto</td>\n",
       "      <td>Regent Park, Harbourfront</td>\n",
       "    </tr>\n",
       "    <tr>\n",
       "      <th>3</th>\n",
       "      <td>M6A</td>\n",
       "      <td>North York</td>\n",
       "      <td>Lawrence Manor, Lawrence Heights</td>\n",
       "    </tr>\n",
       "    <tr>\n",
       "      <th>4</th>\n",
       "      <td>M7A</td>\n",
       "      <td>Downtown Toronto</td>\n",
       "      <td>Queen's Park, Ontario Provincial Government</td>\n",
       "    </tr>\n",
       "  </tbody>\n",
       "</table>\n",
       "</div>"
      ],
      "text/plain": [
       "  Postal code           Borough                                 Neighborhood\n",
       "0         M3A        North York                                    Parkwoods\n",
       "1         M4A        North York                             Victoria Village\n",
       "2         M5A  Downtown Toronto                    Regent Park, Harbourfront\n",
       "3         M6A        North York             Lawrence Manor, Lawrence Heights\n",
       "4         M7A  Downtown Toronto  Queen's Park, Ontario Provincial Government"
      ]
     },
     "execution_count": 35,
     "metadata": {},
     "output_type": "execute_result"
    }
   ],
   "source": [
    "df_toronto.head()"
   ]
  },
  {
   "cell_type": "code",
   "execution_count": 36,
   "metadata": {},
   "outputs": [
    {
     "name": "stdout",
     "output_type": "stream",
     "text": [
      "The shape of the dataset is: (103, 3)\n"
     ]
    }
   ],
   "source": [
    "#Shape of the dataset\n",
    "#we dropped 77 rows (realize that there were 77 missing values in Borough)\n",
    "print('The shape of the dataset is:',df_toronto.shape)"
   ]
  },
  {
   "cell_type": "code",
   "execution_count": 37,
   "metadata": {},
   "outputs": [],
   "source": [
    "#lets export the csv file now\n",
    "df_toronto.to_csv('toronto_neigh.csv', index=False)"
   ]
  },
  {
   "cell_type": "code",
   "execution_count": null,
   "metadata": {},
   "outputs": [],
   "source": []
  }
 ],
 "metadata": {
  "kernelspec": {
   "display_name": "Python 3",
   "language": "python",
   "name": "python3"
  },
  "language_info": {
   "codemirror_mode": {
    "name": "ipython",
    "version": 3
   },
   "file_extension": ".py",
   "mimetype": "text/x-python",
   "name": "python",
   "nbconvert_exporter": "python",
   "pygments_lexer": "ipython3",
   "version": "3.8.2"
  }
 },
 "nbformat": 4,
 "nbformat_minor": 4
}
