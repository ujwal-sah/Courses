{
 "cells": [
  {
   "cell_type": "markdown",
   "metadata": {},
   "source": [
    "## Coursera IBM Data Science Capstone Project\n",
    "### Battle of the Neighborhoods\n",
    "*Author: Ujwal Raj Sah*  \n",
    "*May, 2020*\n",
    "\n",
    "#### Contents\n",
    "1. [Introduction / Business Problem](#introduction)\n",
    "2. [Data Description](#data-desc)  "
   ]
  },
  {
   "cell_type": "markdown",
   "metadata": {},
   "source": [
    "## 1. Introduction / Business Problem <a id='introduction'></a>\n",
    "For this project, I selected to work with selecting a suitable location for a fictional Hotel in Province Number 2 of Nepal. Below is the business problem description:  \n",
    "\n",
    "Our customer, the hotel chain “XYZ” is interested in opening a new hotel in Province Number 2.\n",
    "This would be our customer’s second restaurant location, after having successfully opened a venue in Kathmandu a very lively neighborhood from Province Number 3. Considering that our customer has had very good results with their Kathmandu location, they have requested our data science team to find a neighborhood with similar characteristics. The problem question would be: **What neighborhood from Province 2 has the most similar characteristics in terms of Hotel establishment compared to Kathmandu in Province 3?**"
   ]
  },
  {
   "cell_type": "markdown",
   "metadata": {},
   "source": [
    "## 2. Data Description<a id='data-desc'></a>"
   ]
  },
  {
   "cell_type": "markdown",
   "metadata": {},
   "source": [
    "The data to be used for this project comes from four different locations:  \n",
    "* Foursquare. It is a local search-and-discovery service which provides information on different types of entertainment, drinking, living and dining venues. Foursquare has an API that can be used to query their database and find information related to the venues, such as location, overall category, reviews and tips.  \n",
    "* Province 2 and Province 3 Neighborhood Names and geographic coordinates. Available on https://opendatanepal.com/dataset/nepal-municipalities-wise-geographic-data-shp-geojson-topojson-kml. It is a shape file containing the boundary information for all the Neighborhoods of Nepal.\n",
    "* Province 2 and Province 3 Neighborhood Population Information. Data available on https://opendatanepal.com/dataset/total-population-by-sex-country-province-district-and-local-level. It is a csv file with population information for all the neighborhoods of Nepal, divided into male and female population for each neighborhood\n",
    "* Province 2 and Province 3 District Income Information. Data available on https://opendatanepal.com/dataset/life-expectancy-income-of-nepal-by-district. It is a csv file with Per Capita Income (USD) information for all the neighborhoods of Nepal. I could not find income information at Neighborhood level."
   ]
  }
 ],
 "metadata": {
  "kernelspec": {
   "display_name": "Python 3",
   "language": "python",
   "name": "python3"
  },
  "language_info": {
   "codemirror_mode": {
    "name": "ipython",
    "version": 3
   },
   "file_extension": ".py",
   "mimetype": "text/x-python",
   "name": "python",
   "nbconvert_exporter": "python",
   "pygments_lexer": "ipython3",
   "version": "3.8.2"
  }
 },
 "nbformat": 4,
 "nbformat_minor": 4
}
